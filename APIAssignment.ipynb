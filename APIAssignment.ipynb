{
 "cells": [
  {
   "cell_type": "markdown",
   "id": "24451008-714b-478f-bf63-34e743d1ac63",
   "metadata": {},
   "source": [
    "## API ASSIGNMENT"
   ]
  },
  {
   "cell_type": "code",
   "execution_count": null,
   "id": "2b77ad33-aabd-422f-bb33-7feebd17ad90",
   "metadata": {},
   "outputs": [],
   "source": [
    "\"\"\"\n",
    "Q1. What is an API? Give an example, where an API is used in real life.\n",
    "\"\"\""
   ]
  },
  {
   "cell_type": "code",
   "execution_count": null,
   "id": "7ecfe705-f6b5-46f6-a356-40bdb19ba4b7",
   "metadata": {},
   "outputs": [],
   "source": [
    "\"\"\"\n",
    "API is application programming interface which is used to connect database, server and third party integration,\n",
    "In real life api is used in googlepay and banks, zomotao and google maps, weather application, instagram\n",
    "\"\"\""
   ]
  },
  {
   "cell_type": "code",
   "execution_count": null,
   "id": "e5b6bc85-8414-49de-8222-f33569ada129",
   "metadata": {},
   "outputs": [],
   "source": []
  },
  {
   "cell_type": "code",
   "execution_count": null,
   "id": "19e6266b-53a8-414e-8472-fc0ee9f08899",
   "metadata": {},
   "outputs": [],
   "source": [
    "\"\"\"\n",
    "Q2. Give advantages and disadvantages of using API.\n",
    "\"\"\""
   ]
  },
  {
   "cell_type": "code",
   "execution_count": null,
   "id": "c99d745f-2b7b-4cbd-a6da-9054d624d453",
   "metadata": {},
   "outputs": [],
   "source": [
    "\"\"\"\n",
    "Advantages:\n",
    "1) Increasced efficiency: By using API's allow different system software to communicate and exchange data.\n",
    "2) Improved User Experience: By intergrating with API's application can offer user a better experience.\n",
    "3) Scalability: API are designed to be scalable and can handle large volumne of data set\n",
    "4) Access to new market: API access to new market or application.\n",
    "\n",
    "Disadvantage:\n",
    "1) Security risk: API can introduce security risk if not properly secured \n",
    "2) Complexity: API can be complex and integrate to use especially if API provider does not provide proper document\n",
    "3) Dependency on third parties: An new application in market is always depended on API. if provider stop giving API key,\n",
    "or change polices it will tends new application using API to go down and loose it market.\n",
    "4) Cost: Some popular named API are very expensive which can be barrier to small business."
   ]
  },
  {
   "cell_type": "code",
   "execution_count": null,
   "id": "ec07f88f-372c-43bb-b0c2-48edfb6f1f67",
   "metadata": {},
   "outputs": [],
   "source": []
  },
  {
   "cell_type": "code",
   "execution_count": null,
   "id": "2e433faf-c28d-4456-beda-9fd50f3a438a",
   "metadata": {},
   "outputs": [],
   "source": [
    "\"\"\"\n",
    "Q3. What is a Web API? Differentiate between API and Web API.\n",
    "\"\"\""
   ]
  },
  {
   "cell_type": "code",
   "execution_count": null,
   "id": "8e23d646-4b61-472b-9bdf-32b95d3d9f89",
   "metadata": {},
   "outputs": [],
   "source": [
    "\"\"\"\n",
    "Web API is a API which is used with HTTP communication protocol. Basically WebAPI is a subset of API,\n",
    "whereas API, use TCP,SMTP AND HTTPS and the main difference between them is accessbility, data exchnage format,\n",
    "transport protocol."
   ]
  },
  {
   "cell_type": "code",
   "execution_count": null,
   "id": "d9052ca0-2eac-426f-9f74-5dd65524fd3c",
   "metadata": {},
   "outputs": [],
   "source": []
  },
  {
   "cell_type": "code",
   "execution_count": null,
   "id": "42a996ea-6fa7-418b-9993-8e8bc2479796",
   "metadata": {},
   "outputs": [],
   "source": [
    "\"\"\"\n",
    "Q4. Explain REST and SOAP Architecture. Mention shortcomings of SOAP.\n",
    "\"\"\""
   ]
  },
  {
   "cell_type": "code",
   "execution_count": null,
   "id": "e76b0ef6-c96a-48ef-9170-6fd76d623a6c",
   "metadata": {},
   "outputs": [],
   "source": [
    "\"\"\"\n",
    "REST is RESTful api which to used to api for web services that follow REST represenatational state transfer,\n",
    "which is set of principle for building web service that use HTTPS and SOAP simple object acccess protocol which use\n",
    "to create api with help TCP- Transfer communication protocol, and SMTP-simple mail transfer protocol and it use XML \n",
    "and use WSD - web service description for following the protocols or rules. shortingcoming of SOAP is it is not\n",
    "simplified, scalable and flexibile.\n",
    "\n",
    "More about REST and it's principle:\n",
    "1)client-server architecture\n",
    "2) statless (doesn't store request it usally complete it)\n",
    "3)Cacheable\n",
    "4)uniform interface use (PUT,POST,DELETE,GET)\n",
    "5)layerd system\n",
    "\"\"\""
   ]
  },
  {
   "cell_type": "code",
   "execution_count": null,
   "id": "28a5a809-b971-48f7-8fe2-d427ac46c67e",
   "metadata": {},
   "outputs": [],
   "source": []
  },
  {
   "cell_type": "code",
   "execution_count": null,
   "id": "02b59fcf-0e9e-410c-97a3-c838d52a1ff0",
   "metadata": {},
   "outputs": [],
   "source": [
    "\"\"\"\n",
    "Q5.Differentiate between REST and SOAP.\n",
    "\"\"\""
   ]
  },
  {
   "cell_type": "code",
   "execution_count": null,
   "id": "e1bd194b-a19f-460e-ac79-281c0d6db527",
   "metadata": {},
   "outputs": [],
   "source": [
    "\"\"\"\n",
    "REST: is a RESTful use for webAPI's which follows Represenational state transfer.\n",
    "SOAP: is simple object access protocol\n",
    "\n",
    "REST: follow HTTPS exclusively for communication\n",
    "SOAP: follow TCP,UDP,SMTP and HTTP\n",
    "\n",
    "REST: use JSON AND XML.\n",
    "SOAP: use XML exculsively.\n",
    "\n",
    "REST: use operations like (GET,POST,PUT,DELETE)\n",
    "SOAP: use operation like create,read,update,delete\n",
    "\n",
    "REST: is know for simplicilty,flexibilty and scalabilty\n",
    "SOAP: use more for security matters\n",
    "\n",
    "REST: use caching to improve performace\n",
    "SOAP: doesn't use caching\n",
    "\n",
    "REST: is generally faster more lightweight\n",
    "SOAP: is slower than REST"
   ]
  }
 ],
 "metadata": {
  "kernelspec": {
   "display_name": "Python 3 (ipykernel)",
   "language": "python",
   "name": "python3"
  },
  "language_info": {
   "codemirror_mode": {
    "name": "ipython",
    "version": 3
   },
   "file_extension": ".py",
   "mimetype": "text/x-python",
   "name": "python",
   "nbconvert_exporter": "python",
   "pygments_lexer": "ipython3",
   "version": "3.10.8"
  }
 },
 "nbformat": 4,
 "nbformat_minor": 5
}
